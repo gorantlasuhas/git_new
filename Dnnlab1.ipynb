{
  "nbformat": 4,
  "nbformat_minor": 0,
  "metadata": {
    "colab": {
      "provenance": [],
      "authorship_tag": "ABX9TyPTlfbCljz/FXjBQyrBU4RT",
      "include_colab_link": true
    },
    "kernelspec": {
      "name": "python3",
      "display_name": "Python 3"
    },
    "language_info": {
      "name": "python"
    }
  },
  "cells": [
    {
      "cell_type": "markdown",
      "metadata": {
        "id": "view-in-github",
        "colab_type": "text"
      },
      "source": [
        "<a href=\"https://colab.research.google.com/github/gorantlasuhas/git_new/blob/main/Dnnlab1.ipynb\" target=\"_parent\"><img src=\"https://colab.research.google.com/assets/colab-badge.svg\" alt=\"Open In Colab\"/></a>"
      ]
    },
    {
      "cell_type": "code",
      "source": [
        "import pandas as pd\n",
        "import numpy as np\n",
        "import matplotlib.pyplot as plt\n",
        "from sklearn.model_selection import train_test_split\n",
        "\n",
        "# Read the data from the link\n",
        "df = pd.read_excel('/content/Dry_Bean_Dataset.xlsx')\n",
        "\n",
        "df.head()\n",
        "\n"
      ],
      "metadata": {
        "colab": {
          "base_uri": "https://localhost:8080/",
          "height": 270
        },
        "id": "KZPvLL0Br5Qp",
        "outputId": "0e7becb9-f028-484a-d4e8-5ab167215d7a"
      },
      "execution_count": 21,
      "outputs": [
        {
          "output_type": "execute_result",
          "data": {
            "text/plain": [
              "    Area  Perimeter  MajorAxisLength  MinorAxisLength  AspectRation  \\\n",
              "0  28395    610.291       208.178117       173.888747      1.197191   \n",
              "1  28734    638.018       200.524796       182.734419      1.097356   \n",
              "2  29380    624.110       212.826130       175.931143      1.209713   \n",
              "3  30008    645.884       210.557999       182.516516      1.153638   \n",
              "4  30140    620.134       201.847882       190.279279      1.060798   \n",
              "\n",
              "   Eccentricity  ConvexArea  EquivDiameter    Extent  Solidity  roundness  \\\n",
              "0      0.549812       28715     190.141097  0.763923  0.988856   0.958027   \n",
              "1      0.411785       29172     191.272750  0.783968  0.984986   0.887034   \n",
              "2      0.562727       29690     193.410904  0.778113  0.989559   0.947849   \n",
              "3      0.498616       30724     195.467062  0.782681  0.976696   0.903936   \n",
              "4      0.333680       30417     195.896503  0.773098  0.990893   0.984877   \n",
              "\n",
              "   Compactness  ShapeFactor1  ShapeFactor2  ShapeFactor3  ShapeFactor4  Class  \n",
              "0     0.913358      0.007332      0.003147      0.834222      0.998724  SEKER  \n",
              "1     0.953861      0.006979      0.003564      0.909851      0.998430  SEKER  \n",
              "2     0.908774      0.007244      0.003048      0.825871      0.999066  SEKER  \n",
              "3     0.928329      0.007017      0.003215      0.861794      0.994199  SEKER  \n",
              "4     0.970516      0.006697      0.003665      0.941900      0.999166  SEKER  "
            ],
            "text/html": [
              "\n",
              "\n",
              "  <div id=\"df-6689029d-1056-4872-a573-1735c8f22108\">\n",
              "    <div class=\"colab-df-container\">\n",
              "      <div>\n",
              "<style scoped>\n",
              "    .dataframe tbody tr th:only-of-type {\n",
              "        vertical-align: middle;\n",
              "    }\n",
              "\n",
              "    .dataframe tbody tr th {\n",
              "        vertical-align: top;\n",
              "    }\n",
              "\n",
              "    .dataframe thead th {\n",
              "        text-align: right;\n",
              "    }\n",
              "</style>\n",
              "<table border=\"1\" class=\"dataframe\">\n",
              "  <thead>\n",
              "    <tr style=\"text-align: right;\">\n",
              "      <th></th>\n",
              "      <th>Area</th>\n",
              "      <th>Perimeter</th>\n",
              "      <th>MajorAxisLength</th>\n",
              "      <th>MinorAxisLength</th>\n",
              "      <th>AspectRation</th>\n",
              "      <th>Eccentricity</th>\n",
              "      <th>ConvexArea</th>\n",
              "      <th>EquivDiameter</th>\n",
              "      <th>Extent</th>\n",
              "      <th>Solidity</th>\n",
              "      <th>roundness</th>\n",
              "      <th>Compactness</th>\n",
              "      <th>ShapeFactor1</th>\n",
              "      <th>ShapeFactor2</th>\n",
              "      <th>ShapeFactor3</th>\n",
              "      <th>ShapeFactor4</th>\n",
              "      <th>Class</th>\n",
              "    </tr>\n",
              "  </thead>\n",
              "  <tbody>\n",
              "    <tr>\n",
              "      <th>0</th>\n",
              "      <td>28395</td>\n",
              "      <td>610.291</td>\n",
              "      <td>208.178117</td>\n",
              "      <td>173.888747</td>\n",
              "      <td>1.197191</td>\n",
              "      <td>0.549812</td>\n",
              "      <td>28715</td>\n",
              "      <td>190.141097</td>\n",
              "      <td>0.763923</td>\n",
              "      <td>0.988856</td>\n",
              "      <td>0.958027</td>\n",
              "      <td>0.913358</td>\n",
              "      <td>0.007332</td>\n",
              "      <td>0.003147</td>\n",
              "      <td>0.834222</td>\n",
              "      <td>0.998724</td>\n",
              "      <td>SEKER</td>\n",
              "    </tr>\n",
              "    <tr>\n",
              "      <th>1</th>\n",
              "      <td>28734</td>\n",
              "      <td>638.018</td>\n",
              "      <td>200.524796</td>\n",
              "      <td>182.734419</td>\n",
              "      <td>1.097356</td>\n",
              "      <td>0.411785</td>\n",
              "      <td>29172</td>\n",
              "      <td>191.272750</td>\n",
              "      <td>0.783968</td>\n",
              "      <td>0.984986</td>\n",
              "      <td>0.887034</td>\n",
              "      <td>0.953861</td>\n",
              "      <td>0.006979</td>\n",
              "      <td>0.003564</td>\n",
              "      <td>0.909851</td>\n",
              "      <td>0.998430</td>\n",
              "      <td>SEKER</td>\n",
              "    </tr>\n",
              "    <tr>\n",
              "      <th>2</th>\n",
              "      <td>29380</td>\n",
              "      <td>624.110</td>\n",
              "      <td>212.826130</td>\n",
              "      <td>175.931143</td>\n",
              "      <td>1.209713</td>\n",
              "      <td>0.562727</td>\n",
              "      <td>29690</td>\n",
              "      <td>193.410904</td>\n",
              "      <td>0.778113</td>\n",
              "      <td>0.989559</td>\n",
              "      <td>0.947849</td>\n",
              "      <td>0.908774</td>\n",
              "      <td>0.007244</td>\n",
              "      <td>0.003048</td>\n",
              "      <td>0.825871</td>\n",
              "      <td>0.999066</td>\n",
              "      <td>SEKER</td>\n",
              "    </tr>\n",
              "    <tr>\n",
              "      <th>3</th>\n",
              "      <td>30008</td>\n",
              "      <td>645.884</td>\n",
              "      <td>210.557999</td>\n",
              "      <td>182.516516</td>\n",
              "      <td>1.153638</td>\n",
              "      <td>0.498616</td>\n",
              "      <td>30724</td>\n",
              "      <td>195.467062</td>\n",
              "      <td>0.782681</td>\n",
              "      <td>0.976696</td>\n",
              "      <td>0.903936</td>\n",
              "      <td>0.928329</td>\n",
              "      <td>0.007017</td>\n",
              "      <td>0.003215</td>\n",
              "      <td>0.861794</td>\n",
              "      <td>0.994199</td>\n",
              "      <td>SEKER</td>\n",
              "    </tr>\n",
              "    <tr>\n",
              "      <th>4</th>\n",
              "      <td>30140</td>\n",
              "      <td>620.134</td>\n",
              "      <td>201.847882</td>\n",
              "      <td>190.279279</td>\n",
              "      <td>1.060798</td>\n",
              "      <td>0.333680</td>\n",
              "      <td>30417</td>\n",
              "      <td>195.896503</td>\n",
              "      <td>0.773098</td>\n",
              "      <td>0.990893</td>\n",
              "      <td>0.984877</td>\n",
              "      <td>0.970516</td>\n",
              "      <td>0.006697</td>\n",
              "      <td>0.003665</td>\n",
              "      <td>0.941900</td>\n",
              "      <td>0.999166</td>\n",
              "      <td>SEKER</td>\n",
              "    </tr>\n",
              "  </tbody>\n",
              "</table>\n",
              "</div>\n",
              "      <button class=\"colab-df-convert\" onclick=\"convertToInteractive('df-6689029d-1056-4872-a573-1735c8f22108')\"\n",
              "              title=\"Convert this dataframe to an interactive table.\"\n",
              "              style=\"display:none;\">\n",
              "\n",
              "  <svg xmlns=\"http://www.w3.org/2000/svg\" height=\"24px\"viewBox=\"0 0 24 24\"\n",
              "       width=\"24px\">\n",
              "    <path d=\"M0 0h24v24H0V0z\" fill=\"none\"/>\n",
              "    <path d=\"M18.56 5.44l.94 2.06.94-2.06 2.06-.94-2.06-.94-.94-2.06-.94 2.06-2.06.94zm-11 1L8.5 8.5l.94-2.06 2.06-.94-2.06-.94L8.5 2.5l-.94 2.06-2.06.94zm10 10l.94 2.06.94-2.06 2.06-.94-2.06-.94-.94-2.06-.94 2.06-2.06.94z\"/><path d=\"M17.41 7.96l-1.37-1.37c-.4-.4-.92-.59-1.43-.59-.52 0-1.04.2-1.43.59L10.3 9.45l-7.72 7.72c-.78.78-.78 2.05 0 2.83L4 21.41c.39.39.9.59 1.41.59.51 0 1.02-.2 1.41-.59l7.78-7.78 2.81-2.81c.8-.78.8-2.07 0-2.86zM5.41 20L4 18.59l7.72-7.72 1.47 1.35L5.41 20z\"/>\n",
              "  </svg>\n",
              "      </button>\n",
              "\n",
              "\n",
              "\n",
              "    <div id=\"df-c09d4bc3-b0ba-4332-8b48-dda8b1b027fb\">\n",
              "      <button class=\"colab-df-quickchart\" onclick=\"quickchart('df-c09d4bc3-b0ba-4332-8b48-dda8b1b027fb')\"\n",
              "              title=\"Suggest charts.\"\n",
              "              style=\"display:none;\">\n",
              "\n",
              "<svg xmlns=\"http://www.w3.org/2000/svg\" height=\"24px\"viewBox=\"0 0 24 24\"\n",
              "     width=\"24px\">\n",
              "    <g>\n",
              "        <path d=\"M19 3H5c-1.1 0-2 .9-2 2v14c0 1.1.9 2 2 2h14c1.1 0 2-.9 2-2V5c0-1.1-.9-2-2-2zM9 17H7v-7h2v7zm4 0h-2V7h2v10zm4 0h-2v-4h2v4z\"/>\n",
              "    </g>\n",
              "</svg>\n",
              "      </button>\n",
              "    </div>\n",
              "\n",
              "<style>\n",
              "  .colab-df-quickchart {\n",
              "    background-color: #E8F0FE;\n",
              "    border: none;\n",
              "    border-radius: 50%;\n",
              "    cursor: pointer;\n",
              "    display: none;\n",
              "    fill: #1967D2;\n",
              "    height: 32px;\n",
              "    padding: 0 0 0 0;\n",
              "    width: 32px;\n",
              "  }\n",
              "\n",
              "  .colab-df-quickchart:hover {\n",
              "    background-color: #E2EBFA;\n",
              "    box-shadow: 0px 1px 2px rgba(60, 64, 67, 0.3), 0px 1px 3px 1px rgba(60, 64, 67, 0.15);\n",
              "    fill: #174EA6;\n",
              "  }\n",
              "\n",
              "  [theme=dark] .colab-df-quickchart {\n",
              "    background-color: #3B4455;\n",
              "    fill: #D2E3FC;\n",
              "  }\n",
              "\n",
              "  [theme=dark] .colab-df-quickchart:hover {\n",
              "    background-color: #434B5C;\n",
              "    box-shadow: 0px 1px 3px 1px rgba(0, 0, 0, 0.15);\n",
              "    filter: drop-shadow(0px 1px 2px rgba(0, 0, 0, 0.3));\n",
              "    fill: #FFFFFF;\n",
              "  }\n",
              "</style>\n",
              "\n",
              "    <script>\n",
              "      async function quickchart(key) {\n",
              "        const containerElement = document.querySelector('#' + key);\n",
              "        const charts = await google.colab.kernel.invokeFunction(\n",
              "            'suggestCharts', [key], {});\n",
              "      }\n",
              "    </script>\n",
              "\n",
              "      <script>\n",
              "\n",
              "function displayQuickchartButton(domScope) {\n",
              "  let quickchartButtonEl =\n",
              "    domScope.querySelector('#df-c09d4bc3-b0ba-4332-8b48-dda8b1b027fb button.colab-df-quickchart');\n",
              "  quickchartButtonEl.style.display =\n",
              "    google.colab.kernel.accessAllowed ? 'block' : 'none';\n",
              "}\n",
              "\n",
              "        displayQuickchartButton(document);\n",
              "      </script>\n",
              "      <style>\n",
              "    .colab-df-container {\n",
              "      display:flex;\n",
              "      flex-wrap:wrap;\n",
              "      gap: 12px;\n",
              "    }\n",
              "\n",
              "    .colab-df-convert {\n",
              "      background-color: #E8F0FE;\n",
              "      border: none;\n",
              "      border-radius: 50%;\n",
              "      cursor: pointer;\n",
              "      display: none;\n",
              "      fill: #1967D2;\n",
              "      height: 32px;\n",
              "      padding: 0 0 0 0;\n",
              "      width: 32px;\n",
              "    }\n",
              "\n",
              "    .colab-df-convert:hover {\n",
              "      background-color: #E2EBFA;\n",
              "      box-shadow: 0px 1px 2px rgba(60, 64, 67, 0.3), 0px 1px 3px 1px rgba(60, 64, 67, 0.15);\n",
              "      fill: #174EA6;\n",
              "    }\n",
              "\n",
              "    [theme=dark] .colab-df-convert {\n",
              "      background-color: #3B4455;\n",
              "      fill: #D2E3FC;\n",
              "    }\n",
              "\n",
              "    [theme=dark] .colab-df-convert:hover {\n",
              "      background-color: #434B5C;\n",
              "      box-shadow: 0px 1px 3px 1px rgba(0, 0, 0, 0.15);\n",
              "      filter: drop-shadow(0px 1px 2px rgba(0, 0, 0, 0.3));\n",
              "      fill: #FFFFFF;\n",
              "    }\n",
              "  </style>\n",
              "\n",
              "      <script>\n",
              "        const buttonEl =\n",
              "          document.querySelector('#df-6689029d-1056-4872-a573-1735c8f22108 button.colab-df-convert');\n",
              "        buttonEl.style.display =\n",
              "          google.colab.kernel.accessAllowed ? 'block' : 'none';\n",
              "\n",
              "        async function convertToInteractive(key) {\n",
              "          const element = document.querySelector('#df-6689029d-1056-4872-a573-1735c8f22108');\n",
              "          const dataTable =\n",
              "            await google.colab.kernel.invokeFunction('convertToInteractive',\n",
              "                                                     [key], {});\n",
              "          if (!dataTable) return;\n",
              "\n",
              "          const docLinkHtml = 'Like what you see? Visit the ' +\n",
              "            '<a target=\"_blank\" href=https://colab.research.google.com/notebooks/data_table.ipynb>data table notebook</a>'\n",
              "            + ' to learn more about interactive tables.';\n",
              "          element.innerHTML = '';\n",
              "          dataTable['output_type'] = 'display_data';\n",
              "          await google.colab.output.renderOutput(dataTable, element);\n",
              "          const docLink = document.createElement('div');\n",
              "          docLink.innerHTML = docLinkHtml;\n",
              "          element.appendChild(docLink);\n",
              "        }\n",
              "      </script>\n",
              "    </div>\n",
              "  </div>\n"
            ]
          },
          "metadata": {},
          "execution_count": 21
        }
      ]
    },
    {
      "cell_type": "code",
      "source": [
        "# Drop the rows with classes other than sekar and barbunya\n",
        "df = df[df['Class'].isin(['SEKER', 'BARBUNYA'])]\n",
        "df = df.reset_index(drop=True)\n",
        "\n",
        "df.shape"
      ],
      "metadata": {
        "colab": {
          "base_uri": "https://localhost:8080/"
        },
        "id": "ZN6I3t5Fsjpf",
        "outputId": "787a852f-0066-4782-a503-9d924159ca07"
      },
      "execution_count": 22,
      "outputs": [
        {
          "output_type": "execute_result",
          "data": {
            "text/plain": [
              "(3349, 17)"
            ]
          },
          "metadata": {},
          "execution_count": 22
        }
      ]
    },
    {
      "cell_type": "code",
      "source": [
        "# Set column names\n",
        "col_names = ['Area', 'Perimeter', 'MajorAxisLength', 'MinorAxisLength', 'AspectRation', 'Eccentricity',\n",
        "             'ConvexArea', 'EquivDiameter', 'Extent', 'Solidity', 'roundness', 'Compactness', 'ShapeFactor1',\n",
        "             'ShapeFactor2', 'ShapeFactor3', 'ShapeFactor4', 'Class']\n",
        "df.columns = col_names\n",
        "\n",
        "# Normalize the data\n",
        "for col in df.columns[:-1]:\n",
        "    max_val = df[col].max()\n",
        "    min_val = df[col].min()\n",
        "    df[col] = (df[col] - min_val) / (max_val - min_val)\n",
        "\n",
        "print(df.head())"
      ],
      "metadata": {
        "colab": {
          "base_uri": "https://localhost:8080/"
        },
        "id": "aO4Wgh1iwxXG",
        "outputId": "2328a99b-fa8a-48cf-a357-ee5ed7db8e1b"
      },
      "execution_count": 24,
      "outputs": [
        {
          "output_type": "stream",
          "name": "stdout",
          "text": [
            "       Area  Perimeter  MajorAxisLength  MinorAxisLength  AspectRation  \\\n",
            "0  0.000000   0.000000         0.027028         0.016729      0.186195   \n",
            "1  0.003871   0.036995         0.000000         0.071982      0.078324   \n",
            "2  0.011248   0.018438         0.043442         0.029486      0.199724   \n",
            "3  0.018419   0.047491         0.035432         0.070620      0.139136   \n",
            "4  0.019926   0.013133         0.004672         0.119109      0.038823   \n",
            "\n",
            "   Eccentricity  ConvexArea  EquivDiameter    Extent  Solidity  roundness  \\\n",
            "0      0.517291    0.000000       0.000000  0.618235  0.928536   0.917733   \n",
            "1      0.301490    0.005090       0.005830  0.718069  0.876908   0.738897   \n",
            "2      0.537484    0.010860       0.016845  0.688910  0.937910   0.892095   \n",
            "3      0.437247    0.022376       0.027437  0.711660  0.766328   0.781476   \n",
            "4      0.179374    0.018957       0.029649  0.663932  0.955711   0.985369   \n",
            "\n",
            "   Compactness  ShapeFactor1  ShapeFactor2  ShapeFactor3  ShapeFactor4  Class  \n",
            "0     0.728949      0.960284      0.816580      0.697275      0.980620  SEKER  \n",
            "1     0.877416      0.862236      0.964091      0.860173      0.974979  SEKER  \n",
            "2     0.712147      0.935944      0.781306      0.679286      0.987196  SEKER  \n",
            "3     0.783826      0.872815      0.840416      0.756663      0.893675  SEKER  \n",
            "4     0.938464      0.783973      1.000000      0.929207      0.989116  SEKER  \n"
          ]
        }
      ]
    },
    {
      "cell_type": "code",
      "source": [
        "\n",
        "# Convert the 'Class' column to numeric type\n",
        "df['Class'] = pd.factorize(df['Class'])[0]\n",
        "\n",
        "# Split the data into training and testing sets\n",
        "X_train, X_test, y_train, y_test = train_test_split(df.iloc[:, :-1], df.iloc[:, -1], test_size=0.3, random_state=42)\n",
        "\n",
        "# Initialize the weights and bias\n",
        "weights = np.zeros(X_train.shape[1])\n",
        "bias = 0\n"
      ],
      "metadata": {
        "id": "00D4ht6Dx1U2"
      },
      "execution_count": 31,
      "outputs": []
    },
    {
      "cell_type": "code",
      "source": [
        "print(y_train.shape)"
      ],
      "metadata": {
        "colab": {
          "base_uri": "https://localhost:8080/"
        },
        "id": "Nmqh1GDh1rdm",
        "outputId": "1a4b6ec5-1734-4d16-c736-71ec6a62155c"
      },
      "execution_count": 30,
      "outputs": [
        {
          "output_type": "stream",
          "name": "stdout",
          "text": [
            "(2344,)\n"
          ]
        }
      ]
    },
    {
      "cell_type": "code",
      "source": [
        "print(y_test.shape)"
      ],
      "metadata": {
        "colab": {
          "base_uri": "https://localhost:8080/"
        },
        "id": "8kY5k-8l1e6e",
        "outputId": "0dcdc94f-e5c1-46d6-c46e-c73ebef83f1c"
      },
      "execution_count": 29,
      "outputs": [
        {
          "output_type": "stream",
          "name": "stdout",
          "text": [
            "(1005,)\n"
          ]
        }
      ]
    },
    {
      "cell_type": "code",
      "source": [
        "\n",
        "# Train the perceptron\n",
        "misclassifications = []\n",
        "epochs = 100\n",
        "for epoch in range(epochs):\n",
        "    misclassified = 0\n",
        "    for i, x in X_train.iterrows():\n",
        "        y = y_train[i]\n",
        "        y_pred = np.dot(x, weights) + bias\n",
        "        if y * y_pred <= 0:\n",
        "            weights += y * x\n",
        "            bias += y\n",
        "            misclassified += 1\n",
        "    misclassifications.append(misclassified)\n",
        "    if misclassified == 0:\n",
        "        break\n",
        "\n",
        "# Plot a graph of number of misclassifications versus the iteration number\n",
        "plt.plot(range(1, len(misclassifications)+1), misclassifications)\n",
        "plt.xlabel('Iteration')\n",
        "plt.ylabel('Number of misclassifications')\n",
        "plt.show()\n",
        "\n",
        "# Test the model on the testing set and report the error\n",
        "y_pred = np.sign(np.dot(X_test, weights) + bias)\n",
        "\n",
        "error = np.mean(y_pred != y_test)\n",
        "print('Test error:', error)"
      ],
      "metadata": {
        "colab": {
          "base_uri": "https://localhost:8080/",
          "height": 466
        },
        "outputId": "21a61b68-2b5e-44b4-b385-aa9fd02fcc1e",
        "id": "bhIXWtP819tp"
      },
      "execution_count": 32,
      "outputs": [
        {
          "output_type": "display_data",
          "data": {
            "text/plain": [
              "<Figure size 640x480 with 1 Axes>"
            ],
            "image/png": "[encoded data removed]"
          },
          "metadata": {}
        },
        {
          "output_type": "stream",
          "name": "stdout",
          "text": [
            "Test error: 0.6288557213930348\n"
          ]
        }
      ]
    },
    {
      "cell_type": "code",
      "source": [
        "import pandas as pd\n",
        "import numpy as np\n",
        "import matplotlib.pyplot as plt\n",
        "from sklearn.model_selection import train_test_split\n",
        "\n",
        "path_to_dataset = '/content/Dry_Bean_Dataset.xlsx'\n",
        "data = pd.read_excel(path_to_dataset)\n",
        "\n",
        "#Keep only samples from classes Seker and Barbunya\n",
        "acceptable_classes = ['SEKER', 'BARBUNYA']\n",
        "data_reduced = data[data['Class'].isin(acceptable_classes)]\n",
        "\n",
        "#Separate features and classes\n",
        "features = data_reduced.drop(columns=['Class'])\n",
        "classes = data_reduced['Class']\n",
        "\n",
        "#Normalize the features\n",
        "normalized_features = (features - features.min()) / (features.max() - features.min())\n",
        "\n",
        "#Combine normalized features and classes back into a new DataFrame\n",
        "data_normalized = pd.concat([normalized_features, classes], axis=1)\n",
        "\n",
        "#Split the data into training and testing sets\n",
        "train_data, test_data, train_classes, test_classes = train_test_split(normalized_features, classes,\n",
        "                                                                      test_size=0.3, random_state=42)\n",
        "\n",
        "#Perceptron training with a fixed number of iterations (100 in this case)\n",
        "num_iterations = 100\n",
        "misclassifications = []\n",
        "\n",
        "#Initialize weights randomly\n",
        "weights = np.random.randn(train_data.shape[1])\n",
        "\n",
        "for iteration in range(num_iterations):\n",
        "    num_misclassifications = 0\n",
        "    for i in range(train_data.shape[0]):\n",
        "        x = train_data.iloc[i].values\n",
        "        y_true = 1 if train_classes.iloc[i] == 'SEKER' else -1\n",
        "\n",
        "        if y_true * np.dot(weights, x) <= 0:\n",
        "            weights = weights + y_true * x\n",
        "            num_misclassifications += 1\n",
        "\n",
        "    misclassifications.append(num_misclassifications)\n",
        "\n",
        "#Plot the number of misclassifications during training\n",
        "plt.plot(range(1, num_iterations + 1), misclassifications)\n",
        "plt.xlabel('Iteration Number')\n",
        "plt.ylabel('Number of Misclassifications')\n",
        "plt.title('Perceptron Learning Progress')\n",
        "plt.show()\n",
        "\n",
        "#Test the model on the test set\n",
        "num_test_samples = test_data.shape[0]\n",
        "num_test_misclassifications = 0\n",
        "\n",
        "for i in range(num_test_samples):\n",
        "    x = test_data.iloc[i].values\n",
        "    y_true = 1 if test_classes.iloc[i] == 'SEKER' else -1\n",
        "\n",
        "    if y_true * np.dot(weights, x) <= 0:\n",
        "        num_test_misclassifications += 1\n",
        "\n",
        "#Calculate the error rate on the test set\n",
        "error_rate = num_test_misclassifications / num_test_samples\n",
        "print(f\"Error rate on the test set: {error_rate:.2%}\")"
      ],
      "metadata": {
        "colab": {
          "base_uri": "https://localhost:8080/",
          "height": 489
        },
        "id": "Fw64GfHyysrZ",
        "outputId": "c824bfd9-f17a-4df3-ee38-9ed80fd3cbb7"
      },
      "execution_count": 26,
      "outputs": [
        {
          "output_type": "display_data",
          "data": {
            "text/plain": [
              "<Figure size 640x480 with 1 Axes>"
            ],
            "image/png": "[encoded data removed]"
          },
          "metadata": {}
        },
        {
          "output_type": "stream",
          "name": "stdout",
          "text": [
            "Error rate on the test set: 3.08%\n"
          ]
        }
      ]
    }
  ]
}